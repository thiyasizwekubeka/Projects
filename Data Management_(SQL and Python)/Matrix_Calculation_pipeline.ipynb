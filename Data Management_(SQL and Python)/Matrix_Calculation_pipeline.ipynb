{
 "cells": [
  {
   "cell_type": "markdown",
   "metadata": {},
   "source": [
    "# Introduction\n",
    "\n",
    "The project entails understanding the load shedding crisis that Eskom has in doing so one component would be to understand the customer sentiments. One way would be would be to track customer satisfaction around Eskom products and services.A data pipeline is created  that can stream twitter data into an existing database, which will later on be analysed for sentiment. \n",
    "\n",
    "**Why a Data Pipeline ?**\n",
    "\n",
    "Data pipelines facilitate the flow of data from a data source to a destination, with the aim of making the data suitable for consumption by the destination system. They are typically made up of a sequence of processing nodes connected in series which apply operations to the data as it flows through them and are typically designed to be reusable and maintainable. Data pipelines can vary depending on the volume, frequency, or nature of data flowing through them.The data pipeline used in this project is an **ETL Pipeline** which is a data pipeline is broken down into data Extraction, data Transforming, and data Loading.\n",
    "\n"
   ]
  },
  {
   "cell_type": "markdown",
   "metadata": {
    "colab_type": "text",
    "id": "t6z7ncXirnv7"
   },
   "source": [
    "**Building The ETL Pipeline**\n",
    "\n",
    "The ETL pipeline consists of the following:\n",
    "\n",
    "1. Function to connect to twitter and scrapes \"Eskom_SA\" tweets.\n",
    "<br>\n",
    "<br>\n",
    "2. Cleans/Processes the tweets from the scraped tweets which will create a dataframe with two new columns using the following functions: <br>\n",
    "&nbsp;&nbsp;&nbsp;&nbsp;&nbsp;&nbsp; a) Hashtag Remover from Analyse Functions\n",
    "<br>\n",
    "<br>\n",
    "3. Functions which connects to your SQL database and uploads the tweets into the table you store the tweets in the database."
   ]
  },
  {
   "cell_type": "code",
   "execution_count": 6,
   "metadata": {
    "colab": {},
    "colab_type": "code",
    "id": "jtYowqI_RiBL"
   },
   "outputs": [],
   "source": [
    "# General:\n",
    "import tweepy           # To consume Twitter's API\n",
    "import pandas as pd     # To handle data\n",
    "import numpy as np      # For numerical computation\n",
    "import json\n",
    "# For plotting and visualization:\n",
    "from IPython.display import display\n",
    "import pyodbc\n"
   ]
  },
  {
   "cell_type": "markdown",
   "metadata": {
    "colab_type": "text",
    "id": "EykRIHe8ykYS"
   },
   "source": [
    "# Consumer and Access details\n",
    "\n",
    "Fill in your Consumer and Access details you should have recieved when applying for a Twitter API. "
   ]
  },
  {
   "cell_type": "code",
   "execution_count": 19,
   "metadata": {
    "colab": {},
    "colab_type": "code",
    "id": "lquylmvOnFvt"
   },
   "outputs": [],
   "source": [
    "# Consumer:\n",
    "CONSUMER_KEY    = \" \" \n",
    "CONSUMER_SECRET = \" \" \n",
    "\n",
    "# Access:\n",
    "ACCESS_TOKEN  = \" \"\n",
    "ACCESS_SECRET = \" \""
   ]
  },
  {
   "cell_type": "code",
   "execution_count": 20,
   "metadata": {
    "colab": {},
    "colab_type": "code",
    "id": "01RMZH30RiBU"
   },
   "outputs": [],
   "source": [
    "# API's setup:\n",
    "def twitter_setup():\n",
    "    \"\"\"\n",
    "    Utility function to setup the Twitter's API\n",
    "    with access and consumer keys from Twitter.\n",
    "    \"\"\"\n",
    "\n",
    "    # Authentication and access using keys:\n",
    "    auth = tweepy.OAuthHandler(CONSUMER_KEY, CONSUMER_SECRET)\n",
    "    auth.set_access_token(ACCESS_TOKEN, ACCESS_SECRET)\n",
    "\n",
    "    # Return API with authentication:\n",
    "    api = tweepy.API(auth, timeout=1000)\n",
    "    return api"
   ]
  },
  {
   "cell_type": "markdown",
   "metadata": {
    "colab_type": "text",
    "id": "I5nbkmC9vk8F"
   },
   "source": [
    "# Function 1:\n",
    "\n",
    "The following function:\n",
    "- Scrapes _\"Eskom_SA\"_ tweets from Twitter. \n",
    "\n",
    "Function Specifications:\n",
    "- The function returns a dataframe with the scraped tweets with just the \"_Tweets_\" and \"_Date_\". \n",
    "- Will take in the ```consumer key,  consumer secret code, access token``` and ```access secret code```.\n",
    "\n",
    "NOTE:\n",
    "The dataframe has the same column names as those in your SQL Database table where you store the tweets."
   ]
  },
  {
   "cell_type": "code",
   "execution_count": 21,
   "metadata": {
    "colab": {},
    "colab_type": "code",
    "id": "eF6Vnzl3RiBX"
   },
   "outputs": [],
   "source": [
    "def twitter_df(CONSUMER_KEY, CONSUMER_SECRET, ACCESS_TOKEN, ACCESS_SECRET ):\n",
    "    '''\n",
    "    The function scrapes tweets  \n",
    "    \n",
    "    Parameters:\n",
    "    -------------\n",
    "    extractor : an extractor object that authenticates the user \n",
    "                using the Twitter API credentials \n",
    "    tweets : extract tweets from any Twitter account,the user_timeline raptures\n",
    "             the tweets from the screen name(known as the twitter account name).   \n",
    "    df: creates a dataframe that places the tweets and when they were created \n",
    "        into a tweets and date column                         \n",
    "\n",
    "\n",
    "    Returns:\n",
    "    -------------\n",
    "    A dataframe of scraped tweets in a Tweets and Date column.\n",
    "\n",
    "    '''\n",
    "    extractor = twitter_setup()\n",
    "    tweets = extractor.user_timeline(screen_name=\"Eskom_SA\", \n",
    "                                 count=200,\n",
    "                                include_rts=False)\n",
    "    \n",
    "    df = pd.DataFrame(data=np.column_stack([[tweet.text for tweet in tweets],\n",
    "                                          [(tweet.created_at) for tweet in tweets]]),\n",
    "                                          columns=['Tweets','Date'])\n",
    "    \n",
    "    return df"
   ]
  },
  {
   "cell_type": "markdown",
   "metadata": {
    "colab_type": "text",
    "id": "mkUQUNKzpUN2"
   },
   "source": [
    "# Function 2: Removing hashtags and the municipalities\n",
    "\n",
    "The following function:\n",
    "- Uses a function that extracts the hashtags and municipalities into it's own column in a new data frame. \n",
    "\n",
    "Function Specifications:\n",
    "- The function  takes in the pandas dataframe created in Function 1 and return a new pandas dataframe. "
   ]
  },
  {
   "cell_type": "code",
   "execution_count": 22,
   "metadata": {
    "colab": {},
    "colab_type": "code",
    "id": "o12Z44mZRiBb"
   },
   "outputs": [
    {
     "data": {
      "text/html": [
       "<div>\n",
       "<style scoped>\n",
       "    .dataframe tbody tr th:only-of-type {\n",
       "        vertical-align: middle;\n",
       "    }\n",
       "\n",
       "    .dataframe tbody tr th {\n",
       "        vertical-align: top;\n",
       "    }\n",
       "\n",
       "    .dataframe thead th {\n",
       "        text-align: right;\n",
       "    }\n",
       "</style>\n",
       "<table border=\"1\" class=\"dataframe\">\n",
       "  <thead>\n",
       "    <tr style=\"text-align: right;\">\n",
       "      <th></th>\n",
       "      <th>Tweets</th>\n",
       "      <th>Date</th>\n",
       "    </tr>\n",
       "  </thead>\n",
       "  <tbody>\n",
       "    <tr>\n",
       "      <th>0</th>\n",
       "      <td>Looking for alternative ways to keep you warm ...</td>\n",
       "      <td>2020-09-02 16:00:21</td>\n",
       "    </tr>\n",
       "    <tr>\n",
       "      <th>1</th>\n",
       "      <td>@Mkabayi11 @errandwowor Eskom does have an app...</td>\n",
       "      <td>2020-09-02 15:27:05</td>\n",
       "    </tr>\n",
       "    <tr>\n",
       "      <th>2</th>\n",
       "      <td>#EskomEasternCape advises customers of Alice o...</td>\n",
       "      <td>2020-09-02 14:29:42</td>\n",
       "    </tr>\n",
       "    <tr>\n",
       "      <th>3</th>\n",
       "      <td>Customers are urged to switch off all non-esse...</td>\n",
       "      <td>2020-09-02 13:15:01</td>\n",
       "    </tr>\n",
       "    <tr>\n",
       "      <th>4</th>\n",
       "      <td>@Mkabayi11 Eskom se Push is a private app. It ...</td>\n",
       "      <td>2020-09-02 12:52:03</td>\n",
       "    </tr>\n",
       "    <tr>\n",
       "      <th>...</th>\n",
       "      <td>...</td>\n",
       "      <td>...</td>\n",
       "    </tr>\n",
       "    <tr>\n",
       "      <th>186</th>\n",
       "      <td>@Rty273 Hi. Please DM us your contact details.</td>\n",
       "      <td>2020-08-22 15:16:05</td>\n",
       "    </tr>\n",
       "    <tr>\n",
       "      <th>187</th>\n",
       "      <td>DYK that you can use MyEskom Customer App to r...</td>\n",
       "      <td>2020-08-22 15:00:04</td>\n",
       "    </tr>\n",
       "    <tr>\n",
       "      <th>188</th>\n",
       "      <td>@maginyamulweli Pls, forward us your reference...</td>\n",
       "      <td>2020-08-22 14:37:03</td>\n",
       "    </tr>\n",
       "    <tr>\n",
       "      <th>189</th>\n",
       "      <td>Eskom Load Reduction Notice\\n\\nDate: 22 August...</td>\n",
       "      <td>2020-08-22 13:00:08</td>\n",
       "    </tr>\n",
       "    <tr>\n",
       "      <th>190</th>\n",
       "      <td>@just_f1f1 Please, log a call on MyEskom Custo...</td>\n",
       "      <td>2020-08-22 12:48:43</td>\n",
       "    </tr>\n",
       "  </tbody>\n",
       "</table>\n",
       "<p>191 rows × 2 columns</p>\n",
       "</div>"
      ],
      "text/plain": [
       "                                                Tweets                Date\n",
       "0    Looking for alternative ways to keep you warm ... 2020-09-02 16:00:21\n",
       "1    @Mkabayi11 @errandwowor Eskom does have an app... 2020-09-02 15:27:05\n",
       "2    #EskomEasternCape advises customers of Alice o... 2020-09-02 14:29:42\n",
       "3    Customers are urged to switch off all non-esse... 2020-09-02 13:15:01\n",
       "4    @Mkabayi11 Eskom se Push is a private app. It ... 2020-09-02 12:52:03\n",
       "..                                                 ...                 ...\n",
       "186     @Rty273 Hi. Please DM us your contact details. 2020-08-22 15:16:05\n",
       "187  DYK that you can use MyEskom Customer App to r... 2020-08-22 15:00:04\n",
       "188  @maginyamulweli Pls, forward us your reference... 2020-08-22 14:37:03\n",
       "189  Eskom Load Reduction Notice\\n\\nDate: 22 August... 2020-08-22 13:00:08\n",
       "190  @just_f1f1 Please, log a call on MyEskom Custo... 2020-08-22 12:48:43\n",
       "\n",
       "[191 rows x 2 columns]"
      ]
     },
     "execution_count": 22,
     "metadata": {},
     "output_type": "execute_result"
    }
   ],
   "source": [
    "twitter_df(CONSUMER_KEY, CONSUMER_SECRET, ACCESS_TOKEN, ACCESS_SECRET )"
   ]
  },
  {
   "cell_type": "code",
   "execution_count": 23,
   "metadata": {},
   "outputs": [],
   "source": [
    "def extract_municipality_hashtags(df):\n",
    "    \n",
    "\n",
    "    '''\n",
    "    The function cleans scraped tweets by extracting the hashtags and \n",
    "    municipalities into their own column in a new dataframe.  \n",
    "    \n",
    "    Parameters:\n",
    "    -------------\n",
    "    mun_dict : a dictionary of municipality twitter handles \n",
    "               and municipality name \n",
    "    df : defines the scraped tweets df created in fucntion \n",
    "         1 as the input    \n",
    "    df['municipality'] : Creates a municipality column with \n",
    "                         municipalities extrated from the tweets column                         \n",
    "    df['hashtags'] : Creates a hashtags column with hashtags extrated \n",
    "                     from the tweets column                    \n",
    "    df['Tweets'] : Cleans the Tweets by removing the hashtags and\n",
    "                   municipalities in the  Tweets column\n",
    "\n",
    "    Returns:\n",
    "    -------------\n",
    "    An updated dataframe that has a tweets column with removed \n",
    "    hashtags and municipalities,the municipalities and hashtags\n",
    "    are extracted into their own columns.\n",
    "\n",
    "    '''\n",
    "\n",
    "    mun_dict = {'@CityofCTAlerts' : 'Cape Town',\n",
    "                '@CityPowerJhb' : 'Johannesburg',\n",
    "                '@eThekwiniM' : 'eThekwini' ,\n",
    "                '@EMMInfo' : 'Ekurhuleni',\n",
    "                '@centlecutility' : 'Mangaung',\n",
    "                '@NMBmunicipality' : 'Nelson Mandela Bay',\n",
    "                '@CityTshwane' : 'Tshwane'}\n",
    "    \n",
    "    handles = list(mun_dict.keys())\n",
    "    \n",
    "    df = twitter_df(CONSUMER_KEY, CONSUMER_SECRET, ACCESS_TOKEN, ACCESS_SECRET )\n",
    "    \n",
    "    df['municipality'] = df['Tweets'].str.extract('({})'.format('|'.join(handles)),\n",
    "                         expand=False).fillna(np.nan)\n",
    "    df['municipality'] = df['municipality'].map(mun_dict)\n",
    "    \n",
    "    df['hashtags'] = df['Tweets'].str.findall(r'#.*?(?=\\s|$)')\n",
    "    df['hashtags'] = df['hashtags'].apply(lambda x: np.nan if len(x)==0 else [x.lower() for x in x])\n",
    "    \n",
    "    df['Tweets'] = df['Tweets'].str.replace(r'\\B#\\w*[a-zA-Z]+\\w*', '')\n",
    "    df['Tweets'] = df['Tweets'].str.replace('({})','')\n",
    "    \n",
    "    return df"
   ]
  },
  {
   "cell_type": "markdown",
   "metadata": {
    "colab_type": "text",
    "id": "L9bXQ_k8xOjV"
   },
   "source": [
    "# Function 3: Updating SQL Database with pyODBC\n",
    "\n",
    "The following function:\n",
    "- Connects and updates your SQL database. \n",
    "\n",
    "Function Specifications:\n",
    "- The function should take in a pandas dataframe created in Function 2. \n",
    "- Connect to your SQL database.\n",
    "- Update the table you store your tweets in.\n",
    "- Not return any output."
   ]
  },
  {
   "cell_type": "code",
   "execution_count": 27,
   "metadata": {
    "colab": {},
    "colab_type": "code",
    "id": "yqdiXb5JRiBo"
   },
   "outputs": [],
   "source": [
    "def pyodbc_twitter(connection, df, twitter_table):\n",
    "   \n",
    "    '''\n",
    "    The function connect to the SQL database and updates \n",
    "    the twitter_table using the dataframe from function 2. \n",
    "\n",
    "\n",
    "    Parameters:\n",
    "    -----------\n",
    "    df = dataframe from function 2\n",
    "    connection = connects to the SQL Database\n",
    "    query = defines the query which updates the SQL twitter_table. \n",
    "\n",
    "    Returns:\n",
    "    ----------\n",
    "    The function does not return an output.\n",
    "    \n",
    "    '''\n",
    "    df = extract_municipality_hashtags(twitter_df)\n",
    " \n",
    "    # host = COMPUTERNAME\\SQLEXPRESS\n",
    "    connection = pyodbc.connect(driver='{SQL Server}',\n",
    "                          host='.\\SQLEXPRESS', \n",
    "                          database='gather_eskom',\n",
    "                          trusted_connection='tcon',\n",
    "                          user='sa',\n",
    "                          autocommit=True\n",
    "                           )\n",
    "    \n",
    "    cursor = connection.cursor()     \n",
    "\n",
    "    query = \"INSERT INTO Tweets ([Tweet],[Date]) VALUES(?,?)\"\n",
    "\n",
    "    for index,row in df.iterrows():\n",
    "        cursor.execute(query, (row[0],row[1]))\n",
    "\n",
    "    connection.commit()\n",
    "    cursor.close()\n",
    "    connection.close()\n",
    "\n",
    "\n",
    "    return None "
   ]
  },
  {
   "cell_type": "code",
   "execution_count": 28,
   "metadata": {},
   "outputs": [],
   "source": [
    "pyodbc_twitter('','', '')"
   ]
  }
 ],
 "metadata": {
  "colab": {
   "name": "pipeline_student_version.ipynb",
   "provenance": []
  },
  "kernelspec": {
   "display_name": "Python 3",
   "language": "python",
   "name": "python3"
  },
  "language_info": {
   "codemirror_mode": {
    "name": "ipython",
    "version": 3
   },
   "file_extension": ".py",
   "mimetype": "text/x-python",
   "name": "python",
   "nbconvert_exporter": "python",
   "pygments_lexer": "ipython3",
   "version": "3.7.6"
  }
 },
 "nbformat": 4,
 "nbformat_minor": 1
}
